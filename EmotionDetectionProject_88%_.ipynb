{
  "cells": [
    {
      "cell_type": "code",
      "source": [],
      "metadata": {
        "id": "wWUTHeCb2NiE"
      },
      "execution_count": null,
      "outputs": []
    },
    {
      "cell_type": "markdown",
      "metadata": {
        "id": "9fTz4Svwi2iM"
      },
      "source": [
        "The real time detection will be done using a different model and the JSON file with the current model and the weights of the neural network we will create.\n",
        "a 70-100% success rate of facial recognition is satisfactory because the real-time app will use several pictures and the common emotion recognition resault to decide the emotion - in this current run we have reached 88%\n"
      ]
    },
    {
      "cell_type": "markdown",
      "metadata": {
        "id": "iMwG2qQyL6Ln"
      },
      "source": []
    },
    {
      "cell_type": "markdown",
      "metadata": {
        "id": "jBYddflTxFoc"
      },
      "source": [
        "In April 2023 the access to AffectNet Data set will be restored and the success rate can be reached to over 90% in the next few days we will try KDEF dataset for better results"
      ]
    },
    {
      "cell_type": "markdown",
      "metadata": {
        "id": "6ocKFdn48qj5"
      },
      "source": [
        "#TO-DO list"
      ]
    },
    {
      "cell_type": "markdown",
      "metadata": {
        "id": "2Q89eZso8t5I"
      },
      "source": [
        "1. we need to increase the amount of emotions photos such as angry,fear,disgust to make the dataset more balanced\n",
        "3. fix comments and rearrange the file "
      ]
    },
    {
      "cell_type": "markdown",
      "metadata": {
        "id": "_itWAYarZVtB"
      },
      "source": [
        "# First Section"
      ]
    },
    {
      "cell_type": "markdown",
      "metadata": {
        "id": "wupdvvdNtVC1"
      },
      "source": [
        "The first section of the code manipulates the dataset of the faces photos into lists, and builds the model\n",
        "all with imports at the beginning  "
      ]
    },
    {
      "cell_type": "code",
      "execution_count": null,
      "metadata": {
        "colab": {
          "base_uri": "https://localhost:8080/"
        },
        "id": "ebSdM3gNrPrO",
        "outputId": "5eff19b2-e19d-4a98-f9a0-0551d7bbfb40"
      },
      "outputs": [
        {
          "name": "stdout",
          "output_type": "stream",
          "text": [
            "Drive already mounted at /content/drive; to attempt to forcibly remount, call drive.mount(\"/content/drive\", force_remount=True).\n"
          ]
        }
      ],
      "source": [
        "from google.colab import drive\n",
        "drive.mount('/content/drive')"
      ]
    },
    {
      "cell_type": "code",
      "execution_count": null,
      "metadata": {
        "id": "qZRWcwQ5QRjS"
      },
      "outputs": [],
      "source": [
        "import pandas as pd                       #reading, writing and manipulating the data (using tables)\n",
        "import numpy as np                        #Library for linear algebra and some probabiltity (raw data)\n",
        "import tensorflow as tf                       \n",
        "from keras.models import Sequential       #To create the sequential layer\n",
        "from tensorflow.keras.callbacks import EarlyStopping\n",
        "from keras.preprocessing import image             #used for image classification\n",
        "from keras.preprocessing.image import ImageDataGenerator  #used to expand the training dataset in order to improve the performance and ability of the model to generalize\n",
        "from keras.layers import Dense, Conv2D, MaxPool2D , Flatten, Dropout\n",
        "from keras.optimizers import SGD, Adam          #To use the optimizer\n",
        "from keras.utils import np_utils  \n",
        "\n"
      ]
    },
    {
      "cell_type": "code",
      "execution_count": null,
      "metadata": {
        "id": "QHQZUM9MqvUY"
      },
      "outputs": [],
      "source": [
        "# Load arrays from disk\n",
        "combined_X = np.load('/content/drive/MyDrive/Emotion Detect/combined_X.npy')\n",
        "combined_y = np.load('/content/drive/MyDrive/Emotion Detect/combined_y.npy')"
      ]
    },
    {
      "cell_type": "code",
      "execution_count": null,
      "metadata": {
        "colab": {
          "base_uri": "https://localhost:8080/"
        },
        "id": "iIujnpIuNYNM",
        "outputId": "1438bfd7-94ab-40b8-dee0-8c27df81170d"
      },
      "outputs": [
        {
          "name": "stdout",
          "output_type": "stream",
          "text": [
            "129949\n",
            "129949\n"
          ]
        }
      ],
      "source": [
        "print(len(combined_X))\n",
        "print(len(combined_y))"
      ]
    },
    {
      "cell_type": "markdown",
      "metadata": {
        "id": "4_dtCv_8xUUj"
      },
      "source": [
        "#Creating the model"
      ]
    },
    {
      "cell_type": "code",
      "execution_count": null,
      "metadata": {
        "colab": {
          "base_uri": "https://localhost:8080/"
        },
        "id": "G8YJcYRgNjYk",
        "outputId": "545e9a3c-644b-48f1-dae0-bfc5a7975bfe"
      },
      "outputs": [
        {
          "name": "stdout",
          "output_type": "stream",
          "text": [
            "Model: \"model_1\"\n",
            "__________________________________________________________________________________________________\n",
            " Layer (type)                   Output Shape         Param #     Connected to                     \n",
            "==================================================================================================\n",
            " input_2 (InputLayer)           [(None, 48, 48, 1)]  0           []                               \n",
            "                                                                                                  \n",
            " conv2d_39 (Conv2D)             (None, 48, 48, 24)   240         ['input_2[0][0]']                \n",
            "                                                                                                  \n",
            " batch_normalization_39 (BatchN  (None, 48, 48, 24)  96          ['conv2d_39[0][0]']              \n",
            " ormalization)                                                                                    \n",
            "                                                                                                  \n",
            " activation_39 (Activation)     (None, 48, 48, 24)   0           ['batch_normalization_39[0][0]'] \n",
            "                                                                                                  \n",
            " conv2d_40 (Conv2D)             (None, 48, 48, 12)   2604        ['activation_39[0][0]']          \n",
            "                                                                                                  \n",
            " dropout_38 (Dropout)           (None, 48, 48, 12)   0           ['conv2d_40[0][0]']              \n",
            "                                                                                                  \n",
            " concatenate_36 (Concatenate)   (None, 48, 48, 36)   0           ['conv2d_39[0][0]',              \n",
            "                                                                  'dropout_38[0][0]']             \n",
            "                                                                                                  \n",
            " batch_normalization_40 (BatchN  (None, 48, 48, 36)  144         ['concatenate_36[0][0]']         \n",
            " ormalization)                                                                                    \n",
            "                                                                                                  \n",
            " activation_40 (Activation)     (None, 48, 48, 36)   0           ['batch_normalization_40[0][0]'] \n",
            "                                                                                                  \n",
            " conv2d_41 (Conv2D)             (None, 48, 48, 12)   3900        ['activation_40[0][0]']          \n",
            "                                                                                                  \n",
            " dropout_39 (Dropout)           (None, 48, 48, 12)   0           ['conv2d_41[0][0]']              \n",
            "                                                                                                  \n",
            " concatenate_37 (Concatenate)   (None, 48, 48, 48)   0           ['concatenate_36[0][0]',         \n",
            "                                                                  'dropout_39[0][0]']             \n",
            "                                                                                                  \n",
            " batch_normalization_41 (BatchN  (None, 48, 48, 48)  192         ['concatenate_37[0][0]']         \n",
            " ormalization)                                                                                    \n",
            "                                                                                                  \n",
            " activation_41 (Activation)     (None, 48, 48, 48)   0           ['batch_normalization_41[0][0]'] \n",
            "                                                                                                  \n",
            " conv2d_42 (Conv2D)             (None, 48, 48, 12)   5196        ['activation_41[0][0]']          \n",
            "                                                                                                  \n",
            " dropout_40 (Dropout)           (None, 48, 48, 12)   0           ['conv2d_42[0][0]']              \n",
            "                                                                                                  \n",
            " concatenate_38 (Concatenate)   (None, 48, 48, 60)   0           ['concatenate_37[0][0]',         \n",
            "                                                                  'dropout_40[0][0]']             \n",
            "                                                                                                  \n",
            " batch_normalization_42 (BatchN  (None, 48, 48, 60)  240         ['concatenate_38[0][0]']         \n",
            " ormalization)                                                                                    \n",
            "                                                                                                  \n",
            " activation_42 (Activation)     (None, 48, 48, 60)   0           ['batch_normalization_42[0][0]'] \n",
            "                                                                                                  \n",
            " conv2d_43 (Conv2D)             (None, 48, 48, 12)   6492        ['activation_42[0][0]']          \n",
            "                                                                                                  \n",
            " dropout_41 (Dropout)           (None, 48, 48, 12)   0           ['conv2d_43[0][0]']              \n",
            "                                                                                                  \n",
            " concatenate_39 (Concatenate)   (None, 48, 48, 72)   0           ['concatenate_38[0][0]',         \n",
            "                                                                  'dropout_41[0][0]']             \n",
            "                                                                                                  \n",
            " batch_normalization_43 (BatchN  (None, 48, 48, 72)  288         ['concatenate_39[0][0]']         \n",
            " ormalization)                                                                                    \n",
            "                                                                                                  \n",
            " activation_43 (Activation)     (None, 48, 48, 72)   0           ['batch_normalization_43[0][0]'] \n",
            "                                                                                                  \n",
            " conv2d_44 (Conv2D)             (None, 48, 48, 12)   7788        ['activation_43[0][0]']          \n",
            "                                                                                                  \n",
            " dropout_42 (Dropout)           (None, 48, 48, 12)   0           ['conv2d_44[0][0]']              \n",
            "                                                                                                  \n",
            " concatenate_40 (Concatenate)   (None, 48, 48, 84)   0           ['concatenate_39[0][0]',         \n",
            "                                                                  'dropout_42[0][0]']             \n",
            "                                                                                                  \n",
            " batch_normalization_44 (BatchN  (None, 48, 48, 84)  336         ['concatenate_40[0][0]']         \n",
            " ormalization)                                                                                    \n",
            "                                                                                                  \n",
            " activation_44 (Activation)     (None, 48, 48, 84)   0           ['batch_normalization_44[0][0]'] \n",
            "                                                                                                  \n",
            " conv2d_45 (Conv2D)             (None, 48, 48, 12)   9084        ['activation_44[0][0]']          \n",
            "                                                                                                  \n",
            " dropout_43 (Dropout)           (None, 48, 48, 12)   0           ['conv2d_45[0][0]']              \n",
            "                                                                                                  \n",
            " concatenate_41 (Concatenate)   (None, 48, 48, 96)   0           ['concatenate_40[0][0]',         \n",
            "                                                                  'dropout_43[0][0]']             \n",
            "                                                                                                  \n",
            " batch_normalization_45 (BatchN  (None, 48, 48, 96)  384         ['concatenate_41[0][0]']         \n",
            " ormalization)                                                                                    \n",
            "                                                                                                  \n",
            " activation_45 (Activation)     (None, 48, 48, 96)   0           ['batch_normalization_45[0][0]'] \n",
            "                                                                                                  \n",
            " conv2d_46 (Conv2D)             (None, 48, 48, 12)   10380       ['activation_45[0][0]']          \n",
            "                                                                                                  \n",
            " dropout_44 (Dropout)           (None, 48, 48, 12)   0           ['conv2d_46[0][0]']              \n",
            "                                                                                                  \n",
            " concatenate_42 (Concatenate)   (None, 48, 48, 108)  0           ['concatenate_41[0][0]',         \n",
            "                                                                  'dropout_44[0][0]']             \n",
            "                                                                                                  \n",
            " batch_normalization_46 (BatchN  (None, 48, 48, 108)  432        ['concatenate_42[0][0]']         \n",
            " ormalization)                                                                                    \n",
            "                                                                                                  \n",
            " activation_46 (Activation)     (None, 48, 48, 108)  0           ['batch_normalization_46[0][0]'] \n",
            "                                                                                                  \n",
            " conv2d_47 (Conv2D)             (None, 48, 48, 12)   11676       ['activation_46[0][0]']          \n",
            "                                                                                                  \n",
            " dropout_45 (Dropout)           (None, 48, 48, 12)   0           ['conv2d_47[0][0]']              \n",
            "                                                                                                  \n",
            " concatenate_43 (Concatenate)   (None, 48, 48, 120)  0           ['concatenate_42[0][0]',         \n",
            "                                                                  'dropout_45[0][0]']             \n",
            "                                                                                                  \n",
            " batch_normalization_47 (BatchN  (None, 48, 48, 120)  480        ['concatenate_43[0][0]']         \n",
            " ormalization)                                                                                    \n",
            "                                                                                                  \n",
            " activation_47 (Activation)     (None, 48, 48, 120)  0           ['batch_normalization_47[0][0]'] \n",
            "                                                                                                  \n",
            " conv2d_48 (Conv2D)             (None, 48, 48, 12)   12972       ['activation_47[0][0]']          \n",
            "                                                                                                  \n",
            " dropout_46 (Dropout)           (None, 48, 48, 12)   0           ['conv2d_48[0][0]']              \n",
            "                                                                                                  \n",
            " concatenate_44 (Concatenate)   (None, 48, 48, 132)  0           ['concatenate_43[0][0]',         \n",
            "                                                                  'dropout_46[0][0]']             \n",
            "                                                                                                  \n",
            " batch_normalization_48 (BatchN  (None, 48, 48, 132)  528        ['concatenate_44[0][0]']         \n",
            " ormalization)                                                                                    \n",
            "                                                                                                  \n",
            " activation_48 (Activation)     (None, 48, 48, 132)  0           ['batch_normalization_48[0][0]'] \n",
            "                                                                                                  \n",
            " conv2d_49 (Conv2D)             (None, 48, 48, 12)   14268       ['activation_48[0][0]']          \n",
            "                                                                                                  \n",
            " dropout_47 (Dropout)           (None, 48, 48, 12)   0           ['conv2d_49[0][0]']              \n",
            "                                                                                                  \n",
            " concatenate_45 (Concatenate)   (None, 48, 48, 144)  0           ['concatenate_44[0][0]',         \n",
            "                                                                  'dropout_47[0][0]']             \n",
            "                                                                                                  \n",
            " batch_normalization_49 (BatchN  (None, 48, 48, 144)  576        ['concatenate_45[0][0]']         \n",
            " ormalization)                                                                                    \n",
            "                                                                                                  \n",
            " activation_49 (Activation)     (None, 48, 48, 144)  0           ['batch_normalization_49[0][0]'] \n",
            "                                                                                                  \n",
            " conv2d_50 (Conv2D)             (None, 48, 48, 12)   15564       ['activation_49[0][0]']          \n",
            "                                                                                                  \n",
            " dropout_48 (Dropout)           (None, 48, 48, 12)   0           ['conv2d_50[0][0]']              \n",
            "                                                                                                  \n",
            " concatenate_46 (Concatenate)   (None, 48, 48, 156)  0           ['concatenate_45[0][0]',         \n",
            "                                                                  'dropout_48[0][0]']             \n",
            "                                                                                                  \n",
            " batch_normalization_50 (BatchN  (None, 48, 48, 156)  624        ['concatenate_46[0][0]']         \n",
            " ormalization)                                                                                    \n",
            "                                                                                                  \n",
            " activation_50 (Activation)     (None, 48, 48, 156)  0           ['batch_normalization_50[0][0]'] \n",
            "                                                                                                  \n",
            " conv2d_51 (Conv2D)             (None, 48, 48, 12)   16860       ['activation_50[0][0]']          \n",
            "                                                                                                  \n",
            " dropout_49 (Dropout)           (None, 48, 48, 12)   0           ['conv2d_51[0][0]']              \n",
            "                                                                                                  \n",
            " concatenate_47 (Concatenate)   (None, 48, 48, 168)  0           ['concatenate_46[0][0]',         \n",
            "                                                                  'dropout_49[0][0]']             \n",
            "                                                                                                  \n",
            " batch_normalization_51 (BatchN  (None, 48, 48, 168)  672        ['concatenate_47[0][0]']         \n",
            " ormalization)                                                                                    \n",
            "                                                                                                  \n",
            " activation_51 (Activation)     (None, 48, 48, 168)  0           ['batch_normalization_51[0][0]'] \n",
            "                                                                                                  \n",
            " conv2d_52 (Conv2D)             (None, 48, 48, 84)   14196       ['activation_51[0][0]']          \n",
            "                                                                                                  \n",
            " dropout_50 (Dropout)           (None, 48, 48, 84)   0           ['conv2d_52[0][0]']              \n",
            "                                                                                                  \n",
            " average_pooling2d_3 (AveragePo  (None, 24, 24, 84)  0           ['dropout_50[0][0]']             \n",
            " oling2D)                                                                                         \n",
            "                                                                                                  \n",
            " batch_normalization_52 (BatchN  (None, 24, 24, 84)  336         ['average_pooling2d_3[0][0]']    \n",
            " ormalization)                                                                                    \n",
            "                                                                                                  \n",
            " activation_52 (Activation)     (None, 24, 24, 84)   0           ['batch_normalization_52[0][0]'] \n",
            "                                                                                                  \n",
            " conv2d_53 (Conv2D)             (None, 24, 24, 12)   9084        ['activation_52[0][0]']          \n",
            "                                                                                                  \n",
            " dropout_51 (Dropout)           (None, 24, 24, 12)   0           ['conv2d_53[0][0]']              \n",
            "                                                                                                  \n",
            " concatenate_48 (Concatenate)   (None, 24, 24, 96)   0           ['average_pooling2d_3[0][0]',    \n",
            "                                                                  'dropout_51[0][0]']             \n",
            "                                                                                                  \n",
            " batch_normalization_53 (BatchN  (None, 24, 24, 96)  384         ['concatenate_48[0][0]']         \n",
            " ormalization)                                                                                    \n",
            "                                                                                                  \n",
            " activation_53 (Activation)     (None, 24, 24, 96)   0           ['batch_normalization_53[0][0]'] \n",
            "                                                                                                  \n",
            " conv2d_54 (Conv2D)             (None, 24, 24, 12)   10380       ['activation_53[0][0]']          \n",
            "                                                                                                  \n",
            " dropout_52 (Dropout)           (None, 24, 24, 12)   0           ['conv2d_54[0][0]']              \n",
            "                                                                                                  \n",
            " concatenate_49 (Concatenate)   (None, 24, 24, 108)  0           ['concatenate_48[0][0]',         \n",
            "                                                                  'dropout_52[0][0]']             \n",
            "                                                                                                  \n",
            " batch_normalization_54 (BatchN  (None, 24, 24, 108)  432        ['concatenate_49[0][0]']         \n",
            " ormalization)                                                                                    \n",
            "                                                                                                  \n",
            " activation_54 (Activation)     (None, 24, 24, 108)  0           ['batch_normalization_54[0][0]'] \n",
            "                                                                                                  \n",
            " conv2d_55 (Conv2D)             (None, 24, 24, 12)   11676       ['activation_54[0][0]']          \n",
            "                                                                                                  \n",
            " dropout_53 (Dropout)           (None, 24, 24, 12)   0           ['conv2d_55[0][0]']              \n",
            "                                                                                                  \n",
            " concatenate_50 (Concatenate)   (None, 24, 24, 120)  0           ['concatenate_49[0][0]',         \n",
            "                                                                  'dropout_53[0][0]']             \n",
            "                                                                                                  \n",
            " batch_normalization_55 (BatchN  (None, 24, 24, 120)  480        ['concatenate_50[0][0]']         \n",
            " ormalization)                                                                                    \n",
            "                                                                                                  \n",
            " activation_55 (Activation)     (None, 24, 24, 120)  0           ['batch_normalization_55[0][0]'] \n",
            "                                                                                                  \n",
            " conv2d_56 (Conv2D)             (None, 24, 24, 12)   12972       ['activation_55[0][0]']          \n",
            "                                                                                                  \n",
            " dropout_54 (Dropout)           (None, 24, 24, 12)   0           ['conv2d_56[0][0]']              \n",
            "                                                                                                  \n",
            " concatenate_51 (Concatenate)   (None, 24, 24, 132)  0           ['concatenate_50[0][0]',         \n",
            "                                                                  'dropout_54[0][0]']             \n",
            "                                                                                                  \n",
            " batch_normalization_56 (BatchN  (None, 24, 24, 132)  528        ['concatenate_51[0][0]']         \n",
            " ormalization)                                                                                    \n",
            "                                                                                                  \n",
            " activation_56 (Activation)     (None, 24, 24, 132)  0           ['batch_normalization_56[0][0]'] \n",
            "                                                                                                  \n",
            " conv2d_57 (Conv2D)             (None, 24, 24, 12)   14268       ['activation_56[0][0]']          \n",
            "                                                                                                  \n",
            " dropout_55 (Dropout)           (None, 24, 24, 12)   0           ['conv2d_57[0][0]']              \n",
            "                                                                                                  \n",
            " concatenate_52 (Concatenate)   (None, 24, 24, 144)  0           ['concatenate_51[0][0]',         \n",
            "                                                                  'dropout_55[0][0]']             \n",
            "                                                                                                  \n",
            " batch_normalization_57 (BatchN  (None, 24, 24, 144)  576        ['concatenate_52[0][0]']         \n",
            " ormalization)                                                                                    \n",
            "                                                                                                  \n",
            " activation_57 (Activation)     (None, 24, 24, 144)  0           ['batch_normalization_57[0][0]'] \n",
            "                                                                                                  \n",
            " conv2d_58 (Conv2D)             (None, 24, 24, 12)   15564       ['activation_57[0][0]']          \n",
            "                                                                                                  \n",
            " dropout_56 (Dropout)           (None, 24, 24, 12)   0           ['conv2d_58[0][0]']              \n",
            "                                                                                                  \n",
            " concatenate_53 (Concatenate)   (None, 24, 24, 156)  0           ['concatenate_52[0][0]',         \n",
            "                                                                  'dropout_56[0][0]']             \n",
            "                                                                                                  \n",
            " batch_normalization_58 (BatchN  (None, 24, 24, 156)  624        ['concatenate_53[0][0]']         \n",
            " ormalization)                                                                                    \n",
            "                                                                                                  \n",
            " activation_58 (Activation)     (None, 24, 24, 156)  0           ['batch_normalization_58[0][0]'] \n",
            "                                                                                                  \n",
            " conv2d_59 (Conv2D)             (None, 24, 24, 12)   16860       ['activation_58[0][0]']          \n",
            "                                                                                                  \n",
            " dropout_57 (Dropout)           (None, 24, 24, 12)   0           ['conv2d_59[0][0]']              \n",
            "                                                                                                  \n",
            " concatenate_54 (Concatenate)   (None, 24, 24, 168)  0           ['concatenate_53[0][0]',         \n",
            "                                                                  'dropout_57[0][0]']             \n",
            "                                                                                                  \n",
            " batch_normalization_59 (BatchN  (None, 24, 24, 168)  672        ['concatenate_54[0][0]']         \n",
            " ormalization)                                                                                    \n",
            "                                                                                                  \n",
            " activation_59 (Activation)     (None, 24, 24, 168)  0           ['batch_normalization_59[0][0]'] \n",
            "                                                                                                  \n",
            " conv2d_60 (Conv2D)             (None, 24, 24, 12)   18156       ['activation_59[0][0]']          \n",
            "                                                                                                  \n",
            " dropout_58 (Dropout)           (None, 24, 24, 12)   0           ['conv2d_60[0][0]']              \n",
            "                                                                                                  \n",
            " concatenate_55 (Concatenate)   (None, 24, 24, 180)  0           ['concatenate_54[0][0]',         \n",
            "                                                                  'dropout_58[0][0]']             \n",
            "                                                                                                  \n",
            " batch_normalization_60 (BatchN  (None, 24, 24, 180)  720        ['concatenate_55[0][0]']         \n",
            " ormalization)                                                                                    \n",
            "                                                                                                  \n",
            " activation_60 (Activation)     (None, 24, 24, 180)  0           ['batch_normalization_60[0][0]'] \n",
            "                                                                                                  \n",
            " conv2d_61 (Conv2D)             (None, 24, 24, 12)   19452       ['activation_60[0][0]']          \n",
            "                                                                                                  \n",
            " dropout_59 (Dropout)           (None, 24, 24, 12)   0           ['conv2d_61[0][0]']              \n",
            "                                                                                                  \n",
            " concatenate_56 (Concatenate)   (None, 24, 24, 192)  0           ['concatenate_55[0][0]',         \n",
            "                                                                  'dropout_59[0][0]']             \n",
            "                                                                                                  \n",
            " batch_normalization_61 (BatchN  (None, 24, 24, 192)  768        ['concatenate_56[0][0]']         \n",
            " ormalization)                                                                                    \n",
            "                                                                                                  \n",
            " activation_61 (Activation)     (None, 24, 24, 192)  0           ['batch_normalization_61[0][0]'] \n",
            "                                                                                                  \n",
            " conv2d_62 (Conv2D)             (None, 24, 24, 12)   20748       ['activation_61[0][0]']          \n",
            "                                                                                                  \n",
            " dropout_60 (Dropout)           (None, 24, 24, 12)   0           ['conv2d_62[0][0]']              \n",
            "                                                                                                  \n",
            " concatenate_57 (Concatenate)   (None, 24, 24, 204)  0           ['concatenate_56[0][0]',         \n",
            "                                                                  'dropout_60[0][0]']             \n",
            "                                                                                                  \n",
            " batch_normalization_62 (BatchN  (None, 24, 24, 204)  816        ['concatenate_57[0][0]']         \n",
            " ormalization)                                                                                    \n",
            "                                                                                                  \n",
            " activation_62 (Activation)     (None, 24, 24, 204)  0           ['batch_normalization_62[0][0]'] \n",
            "                                                                                                  \n",
            " conv2d_63 (Conv2D)             (None, 24, 24, 12)   22044       ['activation_62[0][0]']          \n",
            "                                                                                                  \n",
            " dropout_61 (Dropout)           (None, 24, 24, 12)   0           ['conv2d_63[0][0]']              \n",
            "                                                                                                  \n",
            " concatenate_58 (Concatenate)   (None, 24, 24, 216)  0           ['concatenate_57[0][0]',         \n",
            "                                                                  'dropout_61[0][0]']             \n",
            "                                                                                                  \n",
            " batch_normalization_63 (BatchN  (None, 24, 24, 216)  864        ['concatenate_58[0][0]']         \n",
            " ormalization)                                                                                    \n",
            "                                                                                                  \n",
            " activation_63 (Activation)     (None, 24, 24, 216)  0           ['batch_normalization_63[0][0]'] \n",
            "                                                                                                  \n",
            " conv2d_64 (Conv2D)             (None, 24, 24, 12)   23340       ['activation_63[0][0]']          \n",
            "                                                                                                  \n",
            " dropout_62 (Dropout)           (None, 24, 24, 12)   0           ['conv2d_64[0][0]']              \n",
            "                                                                                                  \n",
            " concatenate_59 (Concatenate)   (None, 24, 24, 228)  0           ['concatenate_58[0][0]',         \n",
            "                                                                  'dropout_62[0][0]']             \n",
            "                                                                                                  \n",
            " batch_normalization_64 (BatchN  (None, 24, 24, 228)  912        ['concatenate_59[0][0]']         \n",
            " ormalization)                                                                                    \n",
            "                                                                                                  \n",
            " activation_64 (Activation)     (None, 24, 24, 228)  0           ['batch_normalization_64[0][0]'] \n",
            "                                                                                                  \n",
            " conv2d_65 (Conv2D)             (None, 24, 24, 114)  26106       ['activation_64[0][0]']          \n",
            "                                                                                                  \n",
            " dropout_63 (Dropout)           (None, 24, 24, 114)  0           ['conv2d_65[0][0]']              \n",
            "                                                                                                  \n",
            " average_pooling2d_4 (AveragePo  (None, 12, 12, 114)  0          ['dropout_63[0][0]']             \n",
            " oling2D)                                                                                         \n",
            "                                                                                                  \n",
            " batch_normalization_65 (BatchN  (None, 12, 12, 114)  456        ['average_pooling2d_4[0][0]']    \n",
            " ormalization)                                                                                    \n",
            "                                                                                                  \n",
            " activation_65 (Activation)     (None, 12, 12, 114)  0           ['batch_normalization_65[0][0]'] \n",
            "                                                                                                  \n",
            " conv2d_66 (Conv2D)             (None, 12, 12, 12)   12324       ['activation_65[0][0]']          \n",
            "                                                                                                  \n",
            " dropout_64 (Dropout)           (None, 12, 12, 12)   0           ['conv2d_66[0][0]']              \n",
            "                                                                                                  \n",
            " concatenate_60 (Concatenate)   (None, 12, 12, 126)  0           ['average_pooling2d_4[0][0]',    \n",
            "                                                                  'dropout_64[0][0]']             \n",
            "                                                                                                  \n",
            " batch_normalization_66 (BatchN  (None, 12, 12, 126)  504        ['concatenate_60[0][0]']         \n",
            " ormalization)                                                                                    \n",
            "                                                                                                  \n",
            " activation_66 (Activation)     (None, 12, 12, 126)  0           ['batch_normalization_66[0][0]'] \n",
            "                                                                                                  \n",
            " conv2d_67 (Conv2D)             (None, 12, 12, 12)   13620       ['activation_66[0][0]']          \n",
            "                                                                                                  \n",
            " dropout_65 (Dropout)           (None, 12, 12, 12)   0           ['conv2d_67[0][0]']              \n",
            "                                                                                                  \n",
            " concatenate_61 (Concatenate)   (None, 12, 12, 138)  0           ['concatenate_60[0][0]',         \n",
            "                                                                  'dropout_65[0][0]']             \n",
            "                                                                                                  \n",
            " batch_normalization_67 (BatchN  (None, 12, 12, 138)  552        ['concatenate_61[0][0]']         \n",
            " ormalization)                                                                                    \n",
            "                                                                                                  \n",
            " activation_67 (Activation)     (None, 12, 12, 138)  0           ['batch_normalization_67[0][0]'] \n",
            "                                                                                                  \n",
            " conv2d_68 (Conv2D)             (None, 12, 12, 12)   14916       ['activation_67[0][0]']          \n",
            "                                                                                                  \n",
            " dropout_66 (Dropout)           (None, 12, 12, 12)   0           ['conv2d_68[0][0]']              \n",
            "                                                                                                  \n",
            " concatenate_62 (Concatenate)   (None, 12, 12, 150)  0           ['concatenate_61[0][0]',         \n",
            "                                                                  'dropout_66[0][0]']             \n",
            "                                                                                                  \n",
            " batch_normalization_68 (BatchN  (None, 12, 12, 150)  600        ['concatenate_62[0][0]']         \n",
            " ormalization)                                                                                    \n",
            "                                                                                                  \n",
            " activation_68 (Activation)     (None, 12, 12, 150)  0           ['batch_normalization_68[0][0]'] \n",
            "                                                                                                  \n",
            " conv2d_69 (Conv2D)             (None, 12, 12, 12)   16212       ['activation_68[0][0]']          \n",
            "                                                                                                  \n",
            " dropout_67 (Dropout)           (None, 12, 12, 12)   0           ['conv2d_69[0][0]']              \n",
            "                                                                                                  \n",
            " concatenate_63 (Concatenate)   (None, 12, 12, 162)  0           ['concatenate_62[0][0]',         \n",
            "                                                                  'dropout_67[0][0]']             \n",
            "                                                                                                  \n",
            " batch_normalization_69 (BatchN  (None, 12, 12, 162)  648        ['concatenate_63[0][0]']         \n",
            " ormalization)                                                                                    \n",
            "                                                                                                  \n",
            " activation_69 (Activation)     (None, 12, 12, 162)  0           ['batch_normalization_69[0][0]'] \n",
            "                                                                                                  \n",
            " conv2d_70 (Conv2D)             (None, 12, 12, 12)   17508       ['activation_69[0][0]']          \n",
            "                                                                                                  \n",
            " dropout_68 (Dropout)           (None, 12, 12, 12)   0           ['conv2d_70[0][0]']              \n",
            "                                                                                                  \n",
            " concatenate_64 (Concatenate)   (None, 12, 12, 174)  0           ['concatenate_63[0][0]',         \n",
            "                                                                  'dropout_68[0][0]']             \n",
            "                                                                                                  \n",
            " batch_normalization_70 (BatchN  (None, 12, 12, 174)  696        ['concatenate_64[0][0]']         \n",
            " ormalization)                                                                                    \n",
            "                                                                                                  \n",
            " activation_70 (Activation)     (None, 12, 12, 174)  0           ['batch_normalization_70[0][0]'] \n",
            "                                                                                                  \n",
            " conv2d_71 (Conv2D)             (None, 12, 12, 12)   18804       ['activation_70[0][0]']          \n",
            "                                                                                                  \n",
            " dropout_69 (Dropout)           (None, 12, 12, 12)   0           ['conv2d_71[0][0]']              \n",
            "                                                                                                  \n",
            " concatenate_65 (Concatenate)   (None, 12, 12, 186)  0           ['concatenate_64[0][0]',         \n",
            "                                                                  'dropout_69[0][0]']             \n",
            "                                                                                                  \n",
            " batch_normalization_71 (BatchN  (None, 12, 12, 186)  744        ['concatenate_65[0][0]']         \n",
            " ormalization)                                                                                    \n",
            "                                                                                                  \n",
            " activation_71 (Activation)     (None, 12, 12, 186)  0           ['batch_normalization_71[0][0]'] \n",
            "                                                                                                  \n",
            " conv2d_72 (Conv2D)             (None, 12, 12, 12)   20100       ['activation_71[0][0]']          \n",
            "                                                                                                  \n",
            " dropout_70 (Dropout)           (None, 12, 12, 12)   0           ['conv2d_72[0][0]']              \n",
            "                                                                                                  \n",
            " concatenate_66 (Concatenate)   (None, 12, 12, 198)  0           ['concatenate_65[0][0]',         \n",
            "                                                                  'dropout_70[0][0]']             \n",
            "                                                                                                  \n",
            " batch_normalization_72 (BatchN  (None, 12, 12, 198)  792        ['concatenate_66[0][0]']         \n",
            " ormalization)                                                                                    \n",
            "                                                                                                  \n",
            " activation_72 (Activation)     (None, 12, 12, 198)  0           ['batch_normalization_72[0][0]'] \n",
            "                                                                                                  \n",
            " conv2d_73 (Conv2D)             (None, 12, 12, 12)   21396       ['activation_72[0][0]']          \n",
            "                                                                                                  \n",
            " dropout_71 (Dropout)           (None, 12, 12, 12)   0           ['conv2d_73[0][0]']              \n",
            "                                                                                                  \n",
            " concatenate_67 (Concatenate)   (None, 12, 12, 210)  0           ['concatenate_66[0][0]',         \n",
            "                                                                  'dropout_71[0][0]']             \n",
            "                                                                                                  \n",
            " batch_normalization_73 (BatchN  (None, 12, 12, 210)  840        ['concatenate_67[0][0]']         \n",
            " ormalization)                                                                                    \n",
            "                                                                                                  \n",
            " activation_73 (Activation)     (None, 12, 12, 210)  0           ['batch_normalization_73[0][0]'] \n",
            "                                                                                                  \n",
            " conv2d_74 (Conv2D)             (None, 12, 12, 12)   22692       ['activation_73[0][0]']          \n",
            "                                                                                                  \n",
            " dropout_72 (Dropout)           (None, 12, 12, 12)   0           ['conv2d_74[0][0]']              \n",
            "                                                                                                  \n",
            " concatenate_68 (Concatenate)   (None, 12, 12, 222)  0           ['concatenate_67[0][0]',         \n",
            "                                                                  'dropout_72[0][0]']             \n",
            "                                                                                                  \n",
            " batch_normalization_74 (BatchN  (None, 12, 12, 222)  888        ['concatenate_68[0][0]']         \n",
            " ormalization)                                                                                    \n",
            "                                                                                                  \n",
            " activation_74 (Activation)     (None, 12, 12, 222)  0           ['batch_normalization_74[0][0]'] \n",
            "                                                                                                  \n",
            " conv2d_75 (Conv2D)             (None, 12, 12, 12)   23988       ['activation_74[0][0]']          \n",
            "                                                                                                  \n",
            " dropout_73 (Dropout)           (None, 12, 12, 12)   0           ['conv2d_75[0][0]']              \n",
            "                                                                                                  \n",
            " concatenate_69 (Concatenate)   (None, 12, 12, 234)  0           ['concatenate_68[0][0]',         \n",
            "                                                                  'dropout_73[0][0]']             \n",
            "                                                                                                  \n",
            " batch_normalization_75 (BatchN  (None, 12, 12, 234)  936        ['concatenate_69[0][0]']         \n",
            " ormalization)                                                                                    \n",
            "                                                                                                  \n",
            " activation_75 (Activation)     (None, 12, 12, 234)  0           ['batch_normalization_75[0][0]'] \n",
            "                                                                                                  \n",
            " conv2d_76 (Conv2D)             (None, 12, 12, 12)   25284       ['activation_75[0][0]']          \n",
            "                                                                                                  \n",
            " dropout_74 (Dropout)           (None, 12, 12, 12)   0           ['conv2d_76[0][0]']              \n",
            "                                                                                                  \n",
            " concatenate_70 (Concatenate)   (None, 12, 12, 246)  0           ['concatenate_69[0][0]',         \n",
            "                                                                  'dropout_74[0][0]']             \n",
            "                                                                                                  \n",
            " batch_normalization_76 (BatchN  (None, 12, 12, 246)  984        ['concatenate_70[0][0]']         \n",
            " ormalization)                                                                                    \n",
            "                                                                                                  \n",
            " activation_76 (Activation)     (None, 12, 12, 246)  0           ['batch_normalization_76[0][0]'] \n",
            "                                                                                                  \n",
            " conv2d_77 (Conv2D)             (None, 12, 12, 12)   26580       ['activation_76[0][0]']          \n",
            "                                                                                                  \n",
            " dropout_75 (Dropout)           (None, 12, 12, 12)   0           ['conv2d_77[0][0]']              \n",
            "                                                                                                  \n",
            " concatenate_71 (Concatenate)   (None, 12, 12, 258)  0           ['concatenate_70[0][0]',         \n",
            "                                                                  'dropout_75[0][0]']             \n",
            "                                                                                                  \n",
            " batch_normalization_77 (BatchN  (None, 12, 12, 258)  1032       ['concatenate_71[0][0]']         \n",
            " ormalization)                                                                                    \n",
            "                                                                                                  \n",
            " activation_77 (Activation)     (None, 12, 12, 258)  0           ['batch_normalization_77[0][0]'] \n",
            "                                                                                                  \n",
            " average_pooling2d_5 (AveragePo  (None, 1, 1, 258)   0           ['activation_77[0][0]']          \n",
            " oling2D)                                                                                         \n",
            "                                                                                                  \n",
            " flatten_1 (Flatten)            (None, 258)          0           ['average_pooling2d_5[0][0]']    \n",
            "                                                                                                  \n",
            " dense_1 (Dense)                (None, 7)            1813        ['flatten_1[0][0]']              \n",
            "                                                                                                  \n",
            "==================================================================================================\n",
            "Total params: 609,883\n",
            "Trainable params: 598,495\n",
            "Non-trainable params: 11,388\n",
            "__________________________________________________________________________________________________\n"
          ]
        }
      ],
      "source": [
        "from keras.models import Model\n",
        "from keras.layers import Input, Dense, Dropout, Activation, Flatten\n",
        "from keras.layers.convolutional import Conv2D\n",
        "from keras.layers.pooling import MaxPooling2D, AveragePooling2D\n",
        "from keras.layers import concatenate\n",
        "from tensorflow.keras.layers import BatchNormalization,Activation\n",
        "from keras.regularizers import l2\n",
        "from keras import backend as K\n",
        "from keras.layers import Lambda\n",
        "\n",
        "def dense_block(x, num_layers, growth_rate, dropout_rate=0.2, weight_decay=1e-4):\n",
        "    for i in range(num_layers):\n",
        "        bn1 = BatchNormalization(axis=3, gamma_regularizer=l2(weight_decay))(x)\n",
        "        relu1 = Activation('relu')(bn1)\n",
        "        conv1 = Conv2D(growth_rate, (3,3), padding='same', kernel_initializer='he_normal', kernel_regularizer=l2(weight_decay))(relu1)\n",
        "        if dropout_rate:\n",
        "            conv1 = Dropout(dropout_rate)(conv1)\n",
        "        x = concatenate([x, conv1])\n",
        "    return x\n",
        "\n",
        "def transition_layer(x, compression_factor=0.5, dropout_rate=0.2, weight_decay=1e-4):\n",
        "    bn1 = BatchNormalization(axis=3, gamma_regularizer=l2(weight_decay))(x)\n",
        "    relu1 = Activation('relu')(bn1)\n",
        "    num_filters = int(x.shape.as_list()[-1] * compression_factor)\n",
        "    conv1 = Conv2D(num_filters, (1,1), padding='same', kernel_initializer='he_normal', kernel_regularizer=l2(weight_decay))(relu1)\n",
        "    if dropout_rate:\n",
        "        conv1 = Dropout(dropout_rate)(conv1)\n",
        "    pool1 = AveragePooling2D((2,2), strides=(2,2))(conv1)\n",
        "    return pool1\n",
        "\n",
        "def DenseNet(input_shape, depth=40, num_classes=7, growth_rate=12, compression_factor=0.5, dropout_rate=0.2, weight_decay=1e-4):\n",
        "    num_layers = (depth - 4) // 3\n",
        "    num_filters = growth_rate * 2\n",
        "\n",
        "    inputs = Input(shape=input_shape)\n",
        "\n",
        "    conv1 = Conv2D(num_filters, (3,3), padding='same', kernel_initializer='he_normal', kernel_regularizer=l2(weight_decay))(inputs)\n",
        "\n",
        "    dense1 = dense_block(conv1, num_layers, growth_rate, dropout_rate, weight_decay)\n",
        "    trans1 = transition_layer(dense1, compression_factor, dropout_rate, weight_decay)\n",
        "\n",
        "    dense2 = dense_block(trans1, num_layers, growth_rate, dropout_rate, weight_decay)\n",
        "    trans2 = transition_layer(dense2, compression_factor, dropout_rate, weight_decay)\n",
        "\n",
        "    dense3 = dense_block(trans2, num_layers, growth_rate, dropout_rate, weight_decay)\n",
        "\n",
        "    bn1 = BatchNormalization(axis=3, gamma_regularizer=l2(weight_decay))(dense3)\n",
        "    relu1 = Activation('relu')(bn1)\n",
        "\n",
        "    pool1 = AveragePooling2D((8,8))(relu1)\n",
        "    flatten1 = Flatten()(pool1)\n",
        "    dense4 = Dense(num_classes, activation='softmax')(flatten1)\n",
        "\n",
        "    # create model\n",
        "    model = Model(inputs=inputs, outputs=dense4)\n",
        "\n",
        "    return model\n",
        "\n",
        "model = DenseNet(input_shape=(combined_X.shape[1], combined_X.shape[2], combined_X.shape[3]))\n",
        "model.summary()\n",
        "\n",
        "\n",
        "\n",
        "\n"
      ]
    },
    {
      "cell_type": "markdown",
      "metadata": {
        "id": "aSaKu4WTZ94I"
      },
      "source": [
        "#Train"
      ]
    },
    {
      "cell_type": "code",
      "execution_count": null,
      "metadata": {
        "id": "sH3QyipTDUVH"
      },
      "outputs": [],
      "source": [
        "model.compile(optimizer=Adam(learning_rate=0.0001),loss='categorical_crossentropy',metrics=['accuracy'])"
      ]
    },
    {
      "cell_type": "code",
      "execution_count": null,
      "metadata": {
        "colab": {
          "background_save": true,
          "base_uri": "https://localhost:8080/"
        },
        "id": "I4CoTK8Aeege",
        "outputId": "8faed837-267c-4399-d2c8-21c5b36a3421"
      },
      "outputs": [
        {
          "name": "stdout",
          "output_type": "stream",
          "text": [
            "Epoch 1/20\n",
            " 350/3249 [==>...........................] - ETA: 8:15:30 - loss: 2.1388 - accuracy: 0.4354"
          ]
        }
      ],
      "source": [
        "batch = 32 #number of images to be procces in a single batch\n",
        "epoch = 20 #how many times the model will train on the csv file\n",
        "es = EarlyStopping(monitor=\"val_accuracy\", patience=5, mode=\"max\",restore_best_weights=True)\n",
        "\n",
        "history = model.fit(combined_X,combined_y,batch_size= batch,epochs= epoch,verbose=1,callbacks=[es],validation_split=0.2,shuffle=True)\n"
      ]
    },
    {
      "cell_type": "markdown",
      "metadata": {
        "id": "EX7TcqUhyfSq"
      },
      "source": [
        "#Test"
      ]
    },
    {
      "cell_type": "code",
      "execution_count": null,
      "metadata": {
        "id": "2BmDgh7bGra_"
      },
      "outputs": [],
      "source": [
        "from sklearn.model_selection import train_test_split\n",
        "X_train, X_test, y_train, y_test = train_test_split(combined_X, combined_y, test_size=0.2, random_state=42)\n"
      ]
    },
    {
      "cell_type": "code",
      "execution_count": null,
      "metadata": {
        "id": "dfHZQYzwP0RT"
      },
      "outputs": [],
      "source": [
        "loss_and_metrics = model.evaluate(X_test,y_test)\n",
        "print(loss_and_metrics)\n"
      ]
    },
    {
      "cell_type": "code",
      "execution_count": null,
      "metadata": {
        "id": "2ErRJFN8P0RT"
      },
      "outputs": [],
      "source": [
        "from IPython.display import Image, display\n",
        "import matplotlib.pyplot as plt\n",
        "import matplotlib.image as mpimg\n",
        "from keras.utils import load_img,img_to_array\n",
        "\n",
        "TGREEN =  '\\033[1;37;42m'\n",
        "TRED =    '\\033[1;37;41m'\n",
        "TYELLOW = '\\033[0;43m'\n",
        "data_array = []\n",
        "lables = []\n",
        "for i in range (1,9):\n",
        "  img_directory = '/content/drive/MyDrive/fer/'+str(i)+'.jpg'\n",
        "  img_data = load_img(img_directory, target_size = (48, 48))   #load the image from the directory\n",
        "  img_data = img_to_array(img_data)                            #convert the image to a Numpy array\n",
        "  img_data = tf.image.rgb_to_grayscale(img_data)\n",
        "\n",
        "\n",
        "  #print(img_data.shape)\n",
        "  #img_data = np.array(img_data, 'float32')\n",
        "  #img_data.resize(48,48,1)\n",
        "  #print(img_data.shape)\n",
        "  img_data = np.expand_dims(img_data, axis = 0)                     #expands the array by inserting a new axis at the specified position.\n",
        "  #print(img_data.shape)\n",
        "\n",
        "  classify = model.predict(img_data)\n",
        "  display(Image(img_directory,width= 150, height=150))\n",
        "  print(\"\\n\")\n",
        "  max_index = np.argmax(classify[0])\n",
        "  emotion_detection = ('angry', 'disgust', 'fear', 'happy', 'sad', 'surprised', 'neutral')\n",
        "  emotion_prediction = emotion_detection[max_index]  \n",
        "  if(max_index == 3 or max_index == 5):\n",
        "    print(TGREEN + str(max_index) + ' = ' +  emotion_prediction)\n",
        "  elif(max_index == 4 or max_index == 2 or max_index == 0):\n",
        "    print(TRED + str(max_index) + ' = ' +  emotion_prediction)\n",
        "  else:\n",
        "    print(TYELLOW + str(max_index) + ' = ' +  emotion_prediction)\n",
        " \n"
      ]
    },
    {
      "cell_type": "markdown",
      "metadata": {
        "id": "Emy4SZRRk_3F"
      },
      "source": [
        "# Saving the model"
      ]
    },
    {
      "cell_type": "markdown",
      "metadata": {
        "id": "OjSa_ZRvt7f0"
      },
      "source": [
        "Third section is for saving the weights of the neural network into a file so we wouldn't have to train the model every time we use the face recognition"
      ]
    },
    {
      "cell_type": "markdown",
      "metadata": {
        "id": "Ahy_xnYsiz00"
      },
      "source": [
        "We will serialize the model to JSON and save the model's weights in a hd5 file, so we can use it to make predictions directly without retraining the model everytime.\n",
        "\n"
      ]
    },
    {
      "cell_type": "code",
      "execution_count": null,
      "metadata": {
        "id": "L-ILk7qNir6M"
      },
      "outputs": [],
      "source": [
        "model_json = model.to_json()\n",
        "with open(\"/content/drive/MyDrive/new-model.json\", \"w\") as json_file:\n",
        "  json_file.write(model_json)\n",
        "  model.save_weights(\"/content/drive/MyDrive/new-model.h5\")\n",
        "\n",
        "print(\"Saved model to drive - file can be located in the colab notebook inside 'content' folder\")"
      ]
    },
    {
      "cell_type": "code",
      "execution_count": null,
      "metadata": {
        "id": "o0bsrOotopUR"
      },
      "outputs": [],
      "source": [
        "# Save arrays to disk\n",
        "np.save('combined_X.npy', combined_X)\n",
        "np.save('combined_y.npy', combined_y)\n",
        "\n",
        "# Load arrays from disk\n",
        "loaded_arr1 = np.load('combined_X.npy')\n",
        "loaded_arr2 = np.load('combined_y.npy')\n",
        "\n",
        "# Verify that the loaded arrays match the original arrays\n",
        "assert np.array_equal(combined_X, loaded_arr1)\n",
        "assert np.array_equal(combined_y, loaded_arr2)"
      ]
    }
  ],
  "metadata": {
    "accelerator": "GPU",
    "colab": {
      "collapsed_sections": [
        "6ocKFdn48qj5",
        "Emy4SZRRk_3F"
      ],
      "provenance": []
    },
    "gpuClass": "standard",
    "kernelspec": {
      "display_name": "Python 3",
      "name": "python3"
    },
    "language_info": {
      "name": "python"
    }
  },
  "nbformat": 4,
  "nbformat_minor": 0
}
